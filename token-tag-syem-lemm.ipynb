{
 "cells": [
  {
   "cell_type": "code",
   "execution_count": 1,
   "metadata": {},
   "outputs": [],
   "source": [
    "import nltk\n",
    "from nltk.stem import PorterStemmer, WordNetLemmatizer\n",
    "from nltk.tag import PerceptronTagger"
   ]
  },
  {
   "cell_type": "code",
   "execution_count": 2,
   "metadata": {},
   "outputs": [],
   "source": [
    "text = \"this is Tajmehal Computer science is a dynamic and ever-evolving field that encompasses the study of algorithms, data structures, programming languages, and the theoretical foundations of computing. It plays a pivotal role in shaping the modern world, driving innovation across various industries. Computer scientists analyze and solve complex problems, develop cutting-edge software, and design efficient algorithms to enhance computational capabilities. From artificial intelligence and machine learning to cybersecurity and software engineering, computer science influences nearly every aspect of our daily lives. As technology continues to advance, the field of computer science remains at the forefront, paving the way for transformative breakthroughs and shaping the digital landscape of the future.\"\n",
    "tokens = nltk.word_tokenize(text)"
   ]
  },
  {
   "cell_type": "code",
   "execution_count": 3,
   "metadata": {},
   "outputs": [
    {
     "name": "stdout",
     "output_type": "stream",
     "text": [
      "[('this', 'DT'), ('is', 'VBZ'), ('Tajmehal', 'NNP'), ('Computer', 'NNP'), ('science', 'NN'), ('is', 'VBZ'), ('a', 'DT'), ('dynamic', 'JJ'), ('and', 'CC'), ('ever-evolving', 'JJ'), ('field', 'NN'), ('that', 'WDT'), ('encompasses', 'VBZ'), ('the', 'DT'), ('study', 'NN'), ('of', 'IN'), ('algorithms', 'NN'), (',', ','), ('data', 'NN'), ('structures', 'NNS'), (',', ','), ('programming', 'VBG'), ('languages', 'NNS'), (',', ','), ('and', 'CC'), ('the', 'DT'), ('theoretical', 'JJ'), ('foundations', 'NNS'), ('of', 'IN'), ('computing', 'VBG'), ('.', '.'), ('It', 'PRP'), ('plays', 'VBZ'), ('a', 'DT'), ('pivotal', 'JJ'), ('role', 'NN'), ('in', 'IN'), ('shaping', 'VBG'), ('the', 'DT'), ('modern', 'JJ'), ('world', 'NN'), (',', ','), ('driving', 'VBG'), ('innovation', 'NN'), ('across', 'IN'), ('various', 'JJ'), ('industries', 'NNS'), ('.', '.'), ('Computer', 'NNP'), ('scientists', 'NNS'), ('analyze', 'VBP'), ('and', 'CC'), ('solve', 'VBP'), ('complex', 'JJ'), ('problems', 'NNS'), (',', ','), ('develop', 'VB'), ('cutting-edge', 'NN'), ('software', 'NN'), (',', ','), ('and', 'CC'), ('design', 'NN'), ('efficient', 'JJ'), ('algorithms', 'NN'), ('to', 'TO'), ('enhance', 'VB'), ('computational', 'JJ'), ('capabilities', 'NNS'), ('.', '.'), ('From', 'IN'), ('artificial', 'JJ'), ('intelligence', 'NN'), ('and', 'CC'), ('machine', 'NN'), ('learning', 'NN'), ('to', 'TO'), ('cybersecurity', 'NN'), ('and', 'CC'), ('software', 'NN'), ('engineering', 'NN'), (',', ','), ('computer', 'NN'), ('science', 'NN'), ('influences', 'NNS'), ('nearly', 'RB'), ('every', 'DT'), ('aspect', 'NN'), ('of', 'IN'), ('our', 'PRP$'), ('daily', 'JJ'), ('lives', 'NNS'), ('.', '.'), ('As', 'IN'), ('technology', 'NN'), ('continues', 'VBZ'), ('to', 'TO'), ('advance', 'VB'), (',', ','), ('the', 'DT'), ('field', 'NN'), ('of', 'IN'), ('computer', 'NN'), ('science', 'NN'), ('remains', 'VBZ'), ('at', 'IN'), ('the', 'DT'), ('forefront', 'NN'), (',', ','), ('paving', 'VBG'), ('the', 'DT'), ('way', 'NN'), ('for', 'IN'), ('transformative', 'JJ'), ('breakthroughs', 'NNS'), ('and', 'CC'), ('shaping', 'VBG'), ('the', 'DT'), ('digital', 'JJ'), ('landscape', 'NN'), ('of', 'IN'), ('the', 'DT'), ('future', 'NN'), ('.', '.')]\n"
     ]
    }
   ],
   "source": [
    "tagger = PerceptronTagger()\n",
    "pos_tags = tagger.tag(tokens)\n",
    "print (pos_tags)"
   ]
  },
  {
   "cell_type": "code",
   "execution_count": 4,
   "metadata": {},
   "outputs": [
    {
     "name": "stdout",
     "output_type": "stream",
     "text": [
      "Stemmed tokens: ['thi', 'is', 'tajmeh', 'comput', 'scienc', 'is', 'a', 'dynam', 'and', 'ever-evolv', 'field', 'that', 'encompass', 'the', 'studi', 'of', 'algorithm', ',', 'data', 'structur', ',', 'program', 'languag', ',', 'and', 'the', 'theoret', 'foundat', 'of', 'comput', '.', 'it', 'play', 'a', 'pivot', 'role', 'in', 'shape', 'the', 'modern', 'world', ',', 'drive', 'innov', 'across', 'variou', 'industri', '.', 'comput', 'scientist', 'analyz', 'and', 'solv', 'complex', 'problem', ',', 'develop', 'cutting-edg', 'softwar', ',', 'and', 'design', 'effici', 'algorithm', 'to', 'enhanc', 'comput', 'capabl', '.', 'from', 'artifici', 'intellig', 'and', 'machin', 'learn', 'to', 'cybersecur', 'and', 'softwar', 'engin', ',', 'comput', 'scienc', 'influenc', 'nearli', 'everi', 'aspect', 'of', 'our', 'daili', 'live', '.', 'as', 'technolog', 'continu', 'to', 'advanc', ',', 'the', 'field', 'of', 'comput', 'scienc', 'remain', 'at', 'the', 'forefront', ',', 'pave', 'the', 'way', 'for', 'transform', 'breakthrough', 'and', 'shape', 'the', 'digit', 'landscap', 'of', 'the', 'futur', '.']\n"
     ]
    }
   ],
   "source": [
    "stemmer = PorterStemmer()\n",
    "stemmed_tokens = [stemmer.stem(token) for token in tokens]\n",
    "print(\"Stemmed tokens:\", stemmed_tokens)"
   ]
  },
  {
   "cell_type": "code",
   "execution_count": 5,
   "metadata": {},
   "outputs": [
    {
     "name": "stdout",
     "output_type": "stream",
     "text": [
      "Lemmatized tokens: ['this', 'is', 'Tajmehal', 'Computer', 'science', 'is', 'a', 'dynamic', 'and', 'ever-evolving', 'field', 'that', 'encompasses', 'the', 'study', 'of', 'algorithm', ',', 'data', 'structure', ',', 'programming', 'language', ',', 'and', 'the', 'theoretical', 'foundation', 'of', 'computing', '.', 'It', 'play', 'a', 'pivotal', 'role', 'in', 'shaping', 'the', 'modern', 'world', ',', 'driving', 'innovation', 'across', 'various', 'industry', '.', 'Computer', 'scientist', 'analyze', 'and', 'solve', 'complex', 'problem', ',', 'develop', 'cutting-edge', 'software', ',', 'and', 'design', 'efficient', 'algorithm', 'to', 'enhance', 'computational', 'capability', '.', 'From', 'artificial', 'intelligence', 'and', 'machine', 'learning', 'to', 'cybersecurity', 'and', 'software', 'engineering', ',', 'computer', 'science', 'influence', 'nearly', 'every', 'aspect', 'of', 'our', 'daily', 'life', '.', 'As', 'technology', 'continues', 'to', 'advance', ',', 'the', 'field', 'of', 'computer', 'science', 'remains', 'at', 'the', 'forefront', ',', 'paving', 'the', 'way', 'for', 'transformative', 'breakthrough', 'and', 'shaping', 'the', 'digital', 'landscape', 'of', 'the', 'future', '.']\n"
     ]
    }
   ],
   "source": [
    "lemmatizer = WordNetLemmatizer()\n",
    "lemmatized_tokens = [lemmatizer.lemmatize(token) for token in tokens]\n",
    "print(\"Lemmatized tokens:\", lemmatized_tokens)"
   ]
  },
  {
   "cell_type": "code",
   "execution_count": null,
   "metadata": {},
   "outputs": [],
   "source": []
  },
  {
   "cell_type": "code",
   "execution_count": null,
   "metadata": {},
   "outputs": [],
   "source": []
  }
 ],
 "metadata": {
  "kernelspec": {
   "display_name": "base",
   "language": "python",
   "name": "python3"
  },
  "language_info": {
   "codemirror_mode": {
    "name": "ipython",
    "version": 3
   },
   "file_extension": ".py",
   "mimetype": "text/x-python",
   "name": "python",
   "nbconvert_exporter": "python",
   "pygments_lexer": "ipython3",
   "version": "3.11.5"
  }
 },
 "nbformat": 4,
 "nbformat_minor": 2
}
