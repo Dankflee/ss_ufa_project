{
 "cells": [
  {
   "cell_type": "code",
   "execution_count": 1,
   "metadata": {},
   "outputs": [],
   "source": [
    "import nltk \n",
    "from nltk.corpus import stopwords\n",
    "from nltk.tokenize import word_tokenize\n",
    "from nltk.stem import PorterStemmer, WordNetLemmatizer\n",
    "from nltk import ne_chunk"
   ]
  },
  {
   "cell_type": "code",
   "execution_count": 2,
   "metadata": {},
   "outputs": [
    {
     "name": "stderr",
     "output_type": "stream",
     "text": [
      "[nltk_data] Downloading package punkt to\n",
      "[nltk_data]     /Users/shreyaspandey/nltk_data...\n",
      "[nltk_data]   Package punkt is already up-to-date!\n",
      "[nltk_data] Downloading package wordnet to\n",
      "[nltk_data]     /Users/shreyaspandey/nltk_data...\n",
      "[nltk_data]   Package wordnet is already up-to-date!\n",
      "[nltk_data] Downloading package stopwords to\n",
      "[nltk_data]     /Users/shreyaspandey/nltk_data...\n",
      "[nltk_data]   Package stopwords is already up-to-date!\n",
      "[nltk_data] Downloading package averaged_perceptron_tagger to\n",
      "[nltk_data]     /Users/shreyaspandey/nltk_data...\n",
      "[nltk_data]   Package averaged_perceptron_tagger is already up-to-\n",
      "[nltk_data]       date!\n",
      "[nltk_data] Downloading package maxent_ne_chunker to\n",
      "[nltk_data]     /Users/shreyaspandey/nltk_data...\n",
      "[nltk_data]   Package maxent_ne_chunker is already up-to-date!\n",
      "[nltk_data] Downloading package words to\n",
      "[nltk_data]     /Users/shreyaspandey/nltk_data...\n",
      "[nltk_data]   Package words is already up-to-date!\n"
     ]
    },
    {
     "data": {
      "text/plain": [
       "True"
      ]
     },
     "execution_count": 2,
     "metadata": {},
     "output_type": "execute_result"
    }
   ],
   "source": [
    "nltk.download('punkt')\n",
    "nltk.download('wordnet')\n",
    "nltk.download('stopwords')\n",
    "nltk.download('averaged_perceptron_tagger')\n",
    "nltk.download('maxent_ne_chunker')\n",
    "nltk.download('words')"
   ]
  },
  {
   "cell_type": "code",
   "execution_count": 3,
   "metadata": {},
   "outputs": [],
   "source": [
    "text = \"\"\"In the ancient land of Greece, nestled among the rugged mountains and shimmering seas, lived a boy named Hercules. From his earliest days, he was destined for greatness, though his path was fraught with trials and tribulations that would shape him into the legendary hero he would become.\n",
    "\n",
    "Born to Alcmene, a mortal woman, and Zeus, the king of the gods, Hercules was imbued with immense strength and courage. However, his divine heritage would bring both blessings and curses upon his life.\n",
    "\n",
    "As a boy, Hercules grew up in the humble village of Tiryns, surrounded by towering cliffs and lush greenery. Despite his extraordinary strength, he was gentle and kind-hearted, always willing to lend a hand to those in need. But as he grew older, his power became more difficult to control, often leading to unintended chaos and destruction.\n",
    "\n",
    "One fateful day, while playing with his friends in the fields, a ferocious lion emerged from the nearby forest, its menacing roar echoing through the valley. The villagers cowered in fear, but Hercules stood his ground, his muscles tensing as he prepared to face the beast.\n",
    "\n",
    "With a mighty roar of his own, Hercules charged forward, his fists clenched tightly as he grappled with the lion. Despite its size and strength, he refused to back down, his determination driving him to overcome the seemingly insurmountable foe.\n",
    "\n",
    "After a fierce struggle, Hercules emerged victorious, the lion lying lifeless at his feet. The villagers cheered his name, hailing him as a hero, but Hercules knew that his journey was far from over. His encounter with the lion was just the beginning of his trials.\n",
    "\n",
    "As he grew into adolescence, Hercules sought to harness his strength for the greater good, embarking on a series of adventures that would test his courage and resilience. From battling fearsome monsters to navigating treacherous landscapes, he faced each challenge with unwavering determination, never faltering in his quest to prove himself worthy of his divine heritage.\n",
    "\n",
    "But amidst his triumphs, Hercules also grappled with the darker aspects of his nature, struggling to control the rage and impulsiveness that often threatened to consume him. His encounters with adversity served as a constant reminder of the fragile balance between his mortal and immortal selves, a balance that he would spend a lifetime trying to reconcile.\n",
    "\n",
    "One of Hercules' most renowned exploits was his Twelve Labors, a series of seemingly impossible tasks bestowed upon him by King Eurystheus as punishment for a crime committed in a fit of madness. From slaying the Nemean Lion to capturing the Golden Hind, each labor pushed Hercules to the limits of his strength and endurance, testing not only his physical prowess but also his ingenuity and resourcefulness.\n",
    "\n",
    "Yet, despite the enormity of his trials, Hercules faced each challenge with unwavering resolve, refusing to be daunted by the obstacles that lay before him. With the help of his loyal companion, Iolaus, and the guidance of the wise centaur Chiron, he persevered through hardship and adversity, emerging victorious time and time again.\n",
    "\n",
    "But perhaps Hercules' greatest trial came in the form of his own mortality, a fate that he could not escape no matter how mighty his strength or how noble his deeds. In a moment of weakness and despair, he unwittingly unleashed his fury upon those he loved most, causing untold suffering and anguish in his wake.\n",
    "\n",
    "Haunted by guilt and remorse, Hercules embarked on a quest for redemption, seeking to atone for his past transgressions and find solace in the embrace of his loved ones. Along the way, he encountered a myriad of challenges and obstacles, each serving as a reminder of the frailty of human nature and the power of forgiveness.\n",
    "\n",
    "In the end, Hercules' journey was not defined by his extraordinary feats or his legendary status, but by the lessons he learned and the bonds he forged along the way. Through hardship and adversity, he discovered the true measure of heroism lies not in the strength of one's arm, but in the courage of one's heart.\n",
    "\n",
    "And so, as Hercules stood upon the precipice of adulthood, gazing out at the vast expanse of the world before him, he knew that his journey was far from over. For the trials that awaited him would not only test his strength and valor but also his resilience and compassion, shaping him into the hero that he was destined to become.\n",
    "\n",
    "As the years passed, Hercules continued to roam the land, seeking out new adventures and challenges wherever they may lie. Along the way, he encountered a diverse array of characters, from noble kings to humble peasants, each teaching him valuable lessons about the nature of humanity and the importance of empathy and understanding.\n",
    "\n",
    "Through his experiences, Hercules grew not only in strength but also in wisdom, learning to temper his power with compassion and humility. No longer driven solely by a desire for glory and recognition, he dedicated himself to serving others, using his gifts to protect the weak and uphold justice wherever he went.\n",
    "\n",
    "But even as he embarked on his quest to make the world a better place, Hercules remained haunted by the ghosts of his past, the memories of his past deeds serving as a constant reminder of the darkness that lurked within him. And yet, it was precisely this darkness that drove him to strive for greater heights, to become the hero that Greece needed in its darkest hour.\n",
    "\n",
    "And so, as Hercules entered into adulthood, he did so not as a mere mortal man, but as a living legend, a symbol of hope and inspiration to all who knew his name. Though his journey had been long and arduous, he knew that the greatest challenges still lay ahead, waiting to test his courage and resolve in ways that he could scarcely imagine.\n",
    "\n",
    "But with the lessons of his youth to guide him and the strength of his heart to sustain him, Hercules faced the future with unwavering determination, ready to embrace whatever trials may come his way. For he knew that true greatness lay not in the glory of victory, but in the courage to face adversity with grace and humility, a lesson that he had learned time and time again on his journey from boyhood to adulthood.\"\"\""
   ]
  },
  {
   "cell_type": "code",
   "execution_count": 4,
   "metadata": {},
   "outputs": [],
   "source": [
    "tokens = word_tokenize(text)\n",
    "\n",
    "stemmer = PorterStemmer()\n",
    "stemmed_tokens =[stemmer.stem(token) for token in tokens]\n",
    "\n",
    "lemmatizer = WordNetLemmatizer()\n",
    "lemmed_words = [lemmatizer.lemmatize(token) for token in tokens]\n",
    "\n",
    "stop_words = set(stopwords.words('english'))\n",
    "filter_of_words = [token for token in tokens if token.lower() not in stop_words]\n",
    "\n",
    "pos_tag = nltk.pos_tag(tokens)\n",
    "\n",
    "ner_tags = ne_chunk(pos_tag)"
   ]
  },
  {
   "cell_type": "code",
   "execution_count": 5,
   "metadata": {},
   "outputs": [
    {
     "name": "stdout",
     "output_type": "stream",
     "text": [
      "Named,Entities:\n",
      "GPE Greece\n",
      "PERSON Hercules\n",
      "PERSON Born\n",
      "GPE Alcmene\n",
      "PERSON Zeus\n",
      "PERSON Hercules\n",
      "PERSON Hercules\n",
      "GPE Tiryns\n",
      "PERSON Hercules\n",
      "PERSON Hercules\n",
      "PERSON Hercules\n",
      "PERSON Hercules\n",
      "PERSON Hercules\n",
      "PERSON Hercules\n",
      "PERSON Hercules\n",
      "ORGANIZATION Twelve Labors\n",
      "PERSON Eurystheus\n",
      "ORGANIZATION Nemean Lion\n",
      "ORGANIZATION Golden Hind\n",
      "PERSON Hercules\n",
      "PERSON Hercules\n",
      "GPE Iolaus\n",
      "GPE Chiron\n",
      "PERSON Hercules\n",
      "PERSON Hercules\n",
      "PERSON Hercules\n",
      "PERSON Hercules\n",
      "PERSON Hercules\n",
      "PERSON Hercules\n",
      "PERSON Hercules\n",
      "GPE Greece\n",
      "PERSON Hercules\n",
      "PERSON Hercules\n"
     ]
    }
   ],
   "source": [
    "ner_tags = ne_chunk(pos_tag)\n",
    "print(\"Named,Entities:\")\n",
    "for chunk in ner_tags:\n",
    "    if hasattr(chunk, 'label'):\n",
    "        print(chunk.label(),' '.join(c[0] for c in chunk))"
   ]
  },
  {
   "cell_type": "code",
   "execution_count": null,
   "metadata": {},
   "outputs": [],
   "source": []
  },
  {
   "cell_type": "code",
   "execution_count": null,
   "metadata": {},
   "outputs": [],
   "source": []
  },
  {
   "cell_type": "code",
   "execution_count": null,
   "metadata": {},
   "outputs": [],
   "source": []
  },
  {
   "cell_type": "code",
   "execution_count": null,
   "metadata": {},
   "outputs": [],
   "source": []
  }
 ],
 "metadata": {
  "kernelspec": {
   "display_name": "base",
   "language": "python",
   "name": "python3"
  },
  "language_info": {
   "codemirror_mode": {
    "name": "ipython",
    "version": 3
   },
   "file_extension": ".py",
   "mimetype": "text/x-python",
   "name": "python",
   "nbconvert_exporter": "python",
   "pygments_lexer": "ipython3",
   "version": "3.11.5"
  }
 },
 "nbformat": 4,
 "nbformat_minor": 2
}
