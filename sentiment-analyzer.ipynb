{
 "cells": [
  {
   "cell_type": "code",
   "execution_count": 1,
   "metadata": {},
   "outputs": [
    {
     "name": "stderr",
     "output_type": "stream",
     "text": [
      "[nltk_data] Downloading package vader_lexicon to\n",
      "[nltk_data]     /Users/shreyaspandey/nltk_data...\n",
      "[nltk_data]   Package vader_lexicon is already up-to-date!\n"
     ]
    },
    {
     "data": {
      "text/plain": [
       "True"
      ]
     },
     "execution_count": 1,
     "metadata": {},
     "output_type": "execute_result"
    }
   ],
   "source": [
    "import nltk\n",
    "from nltk.sentiment import SentimentIntensityAnalyzer\n",
    "nltk.download('vader_lexicon')"
   ]
  },
  {
   "cell_type": "code",
   "execution_count": 2,
   "metadata": {},
   "outputs": [],
   "source": [
    "analyzer = SentimentIntensityAnalyzer()"
   ]
  },
  {
   "cell_type": "code",
   "execution_count": 3,
   "metadata": {},
   "outputs": [],
   "source": [
    "def get_sentiment(text):\n",
    "  scores = analyzer.polarity_scores(text)\n",
    "  predicted_sentiment = max(scores, key=scores.get)\n",
    "  return text, predicted_sentiment"
   ]
  },
  {
   "cell_type": "code",
   "execution_count": 4,
   "metadata": {},
   "outputs": [],
   "source": [
    "def evaluate(data):\n",
    "  correct = 0\n",
    "  for text, label in data:\n",
    "    predicted_sentiment, _ = get_sentiment(text)\n",
    "    if predicted_sentiment == label:\n",
    "      correct += 1\n",
    "  accuracy = correct / len(data) * 100\n",
    "  return accuracy"
   ]
  },
  {
   "cell_type": "code",
   "execution_count": 5,
   "metadata": {},
   "outputs": [],
   "source": [
    "data = [\n",
    "  (\"The food was delicious and the service was excellent. I will definitely be back!\", \"Positive\"),\n",
    "  (\"This movie was a total disappointment. The acting was terrible and the plot was predictable.\", \"Negative\"),\n",
    "  (\"The hotel was okay, but the room was a bit small. Overall, it was an average experience.\", \"Neutral\"),\n",
    "  (\"I love this new phone! It's so fast and the camera is amazing.\", \"Positive\"),\n",
    "  (\"The product arrived damaged and customer service was unhelpful. Very frustrating experience.\", \"Negative\"),\n",
    "]"
   ]
  },
  {
   "cell_type": "code",
   "execution_count": 10,
   "metadata": {},
   "outputs": [
    {
     "name": "stdout",
     "output_type": "stream",
     "text": [
      "Sentiment Analysis Accuracy: 0.0 %\n",
      "Sentiment for 'The product arrived damaged and customer service was unhelpful. Very frustrating experience.': neu\n"
     ]
    }
   ],
   "source": [
    "accuracy = evaluate(data)\n",
    "print(\"Sentiment Analysis Accuracy:\", accuracy, \"%\")\n",
    "\n",
    "new_text = \"The product arrived damaged and customer service was unhelpful. Very frustrating experience.\"\n",
    "text, predicted_sentiment = get_sentiment(new_text)\n",
    "print(f\"Sentiment for '{text}': {predicted_sentiment}\")"
   ]
  }
 ],
 "metadata": {
  "kernelspec": {
   "display_name": "base",
   "language": "python",
   "name": "python3"
  },
  "language_info": {
   "codemirror_mode": {
    "name": "ipython",
    "version": 3
   },
   "file_extension": ".py",
   "mimetype": "text/x-python",
   "name": "python",
   "nbconvert_exporter": "python",
   "pygments_lexer": "ipython3",
   "version": "3.11.5"
  }
 },
 "nbformat": 4,
 "nbformat_minor": 2
}
